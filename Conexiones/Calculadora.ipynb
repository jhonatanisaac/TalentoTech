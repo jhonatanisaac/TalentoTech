{
 "cells": [
  {
   "cell_type": "code",
   "execution_count": null,
   "id": "e0a5d14f",
   "metadata": {},
   "outputs": [
    {
     "name": "stdout",
     "output_type": "stream",
     "text": [
      "\n",
      "MENU:\n",
      "1: Sumar\n",
      "2: -\n",
      "3: *\n",
      "4: Dividir (/)\n",
      "5: Potenciacion\n",
      "6: Radicacion\n",
      "7: Logaritmacion\n",
      "8: seno\n",
      "9: coseno\n",
      "10: tangente\n",
      "\n",
      "Vamos a obtener la raíz (radicación):\n",
      "\n",
      "La raíz 34.0-ésima de 14.0 es: 1.0807111895144104\n"
     ]
    },
    {
     "data": {
      "text/plain": [
       "'if opcion==\\'6\\':\\n  print(\"Vamos a calcular la raíz cuadrada de los dos valores ingresados:\\n\")\\n    if numero_uno>=0:\\n        raiz_uno=numero_uno**(1/2)\\n        print(f\\'Raíz cuadrada de {numero_uno} es {raiz_uno}\\')\\n    else:\\n        print(f\\'No es posible calcular la raíz cuadrada de {numero_uno} porque es un número negativo\\')\\n    if numero_dos>=0:\\n        raiz_dos=numero_dos**(1/2)\\n        print(f\\'Raíz cuadrada de {numero_dos} es {raiz_dos}\\')\\n    else:\\n        print(f\\'No es posible calcular la raíz cuadrada de {numero_dos} porque es un número negativo\\')\\n\\nif opcion==\\'7\\':\\n\\n    print(\"Vamos a calcular el seno de los dos valores ingresados:\\n\")\\n    if numero_uno>=0:\\n        seno_uno=math.sin(numero_uno)\\n        print(f\\'Seno de {numero_uno} es {seno_uno}\\')\\n    else:\\n        print(f\\'No es posible calcular el seno de {numero_uno} porque es un número negativo\\')\\n    if numero_dos>=0:\\n        seno_dos=math.sin(numero_dos)\\n        print(f\\'Seno de {numero_dos} es {seno_dos}\\')\\n    else:\\n        print(f\\'No es posible calcular el seno de {numero_dos} porque es un número negativo\\')\\n\\nif opcion==\\'8\\':\\n    print(\"Vamos a calcular el coseno de los dos valores ingresados:\\n\")\\n    if numero_uno>=0:\\n        coseno_uno=math.cos(numero_uno)\\n        print(f\\'Coseno de {numero_uno} es {coseno_uno}\\')\\n    else:\\n        print(f\\'No es posible calcular el coseno de {numero_uno} porque es un número negativo\\')\\n    if numero_dos>=0:\\n        coseno_dos=math.cos(numero_dos)\\n        print(f\\'Coseno de {numero_dos} es {coseno_dos}\\')\\n    else:\\n        print(f\\'No es posible calcular el coseno de {numero_dos} porque es un número negativo\\')\\nif opcion==\\'9\\':\\n    print(\"Vamos a calcular la tangente de los dos valores ingresados:\\n\")\\n    if numero_uno>=0:\\n        tangente_uno=math.tan(numero_uno)\\n        print(f\\'Tangente de {numero_uno} es {tangente_uno}\\')\\n    else:\\n        print(f\\'No es posible calcular la tangente de {numero_uno} porque es un número negativo\\')\\n    if numero_dos>=0:\\n        tangente_dos=math.tan(numero_dos)\\n        print(f\\'Tangente de {numero_dos} es {tangente_dos}\\')  \\n    else:\\n        print(f\\'No es posible calcular la tangente de {numero_dos} porque es un número negativo\\')\\nelse:\\n    print(\"La opción ingresada no es válida. Por favor, elija una opción del menú.\") '"
      ]
     },
     "execution_count": 12,
     "metadata": {},
     "output_type": "execute_result"
    }
   ],
   "source": [
    "import math\n",
    "print()\n",
    "#MENU:\n",
    "print(\"MENU:\")\n",
    "print(\"1: Sumar\")\n",
    "#print(\"1: +\")\n",
    "print(\"2: -\")\n",
    "print(\"3: *\")\n",
    "print(\"4: Dividir (/)\")\n",
    "print(\"5: Potenciacion\")\n",
    "print(\"6: Radicacion\")\n",
    "print(\"7: Logaritmacion\")\n",
    "print(\"8: seno\")\n",
    "print(\"9: coseno\")\n",
    "print(\"10: tangente\")\n",
    "print()\n",
    "\n",
    "#Ingreso de datos:\n",
    "opcion=input(\"Ingrese la opción deseada del menú: \") # la opción se guarda como cadena\n",
    "#opcion=int(input(\"Ingrese la opción deseada del menú: \")) # la opción se guarda como cadena\n",
    "numero_uno=float(input('Ingrese el primer número de la operación:'))# guarda como flotante (número real)\n",
    "numero_dos=float(input('Ingrese el segundo número de la operación:'))# guarda como flotante (número real)\n",
    "#Posibilidades para ejecutar la calculadora:\n",
    "#if opcion=='1':\n",
    "#if opcion=='+':\n",
    "#if opcion=='Sumar':\n",
    "if opcion=='1':\n",
    "  print(\"Vamos a sumar(+) los dos valores ingresados:\")\n",
    "  print('La suma es:',numero_uno+numero_dos)\n",
    "if opcion=='2':\n",
    "  print(\"Vamos a restar(-) los dos valores ingresados:\\n\")\n",
    "  resta=numero_uno-numero_dos\n",
    "  #print(\"Resultado=\"+str(resta)) # voy a concatenar dos cadenas(str1+str2: no suma sino que junta, str1str2)\n",
    "  print(\"Resultado=\",resta) # voy a concatenar dos cadenas(str1+str2: no suma sino que junta, str1str2)\n",
    "if opcion=='3':\n",
    "  print(\"Vamos a multiplicar(*) los dos valores ingresados:\\n\")\n",
    "  #print(f'{numero_uno}*{numero_dos}={numero_uno*numero_dos}')\n",
    "  mult=numero_uno*numero_dos\n",
    "  print(f'{numero_uno}*{numero_dos}={mult}')\n",
    "  #print('{}*{}'.format(numero_uno,numero_dos),\"=\",'{}'.format(mult))\n",
    "if opcion=='4'or opcion=='/' or opcion=='Dividir'.lower:\n",
    "  print(\"Vamos a dividir(/) los dos valores ingresados:\\n\")\n",
    "  #VALIDANDO EL DENOMINADOR (debe ser diferente de cero)\n",
    "  if numero_dos!=0:\n",
    "    print(numero_uno/numero_dos)\n",
    "  else:\n",
    "    print(\"¡No es posible dividir entre cero!\")\n",
    "\n",
    "if opcion=='5':\n",
    "  print(\"Vamos a elevar a potencia los dos valores ingresados:\\n\")  \n",
    "  potencia=numero_uno**numero_dos\n",
    "  print(f'{numero_uno}^{numero_dos}={potencia}')\n",
    "\n",
    "if opcion == '6':\n",
    "    print(\"Vamos a obtener la raíz (radicación):\\n\")\n",
    "    if numero_dos != 0:\n",
    "        raiz = numero_uno ** (1 / numero_dos)\n",
    "        print(f'La raíz {numero_dos}-ésima de {numero_uno} es: {raiz}')\n",
    "    else:\n",
    "        print(\"¡No se puede calcular raíz con índice cero!\")\n",
    "\n",
    "if opcion == '7':\n",
    "    print(\"Vamos a calcular el logaritmo:\\n\")\n",
    "    if numero_uno > 0 and numero_dos > 0 and numero_dos != 1:\n",
    "        logaritmo = math.log(numero_uno, numero_dos)\n",
    "        print(f'log base {numero_dos} de {numero_uno} es: {logaritmo}')\n",
    "    else:\n",
    "        print(\"¡Error! El número y la base deben ser positivos y la base distinta de 1.\")\n",
    "\n",
    "if opcion == '8':\n",
    "    print(\"Vamos a calcular el seno del primer número (en radianes):\\n\")\n",
    "    print(f'sen({numero_uno}) = {math.sin(numero_uno)}')\n",
    "\n",
    "if opcion == '9':\n",
    "    print(\"Vamos a calcular el coseno del primer número (en radianes):\\n\")\n",
    "    print(f'cos({numero_uno}) = {math.cos(numero_uno)}')\n",
    "\n",
    "if opcion == '10':\n",
    "    print(\"Vamos a calcular la tangente del primer número (en radianes):\\n\")\n",
    "    print(f'tan({numero_uno}) = {math.tan(numero_uno)}')\n",
    "\n"
   ]
  }
 ],
 "metadata": {
  "kernelspec": {
   "display_name": "Python 3",
   "language": "python",
   "name": "python3"
  },
  "language_info": {
   "codemirror_mode": {
    "name": "ipython",
    "version": 3
   },
   "file_extension": ".py",
   "mimetype": "text/x-python",
   "name": "python",
   "nbconvert_exporter": "python",
   "pygments_lexer": "ipython3",
   "version": "3.13.3"
  }
 },
 "nbformat": 4,
 "nbformat_minor": 5
}
