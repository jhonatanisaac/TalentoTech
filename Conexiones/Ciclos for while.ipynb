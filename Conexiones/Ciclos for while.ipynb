{
 "cells": [
  {
   "cell_type": "markdown",
   "id": "ccdea409",
   "metadata": {},
   "source": [
    "Ejercicio de ciclos (for while)\n",
    "\n",
    "Teniendo en cuenta el archivo trabajado en clase para el primer ejercicio de sumar los multiplos de 3 entre el rango de 1 a 100.\n",
    "\n",
    "1. En la primera forma modificar el codigo de tal manera que el calculo de la suma acumulada de los multiplos de 3, no este por fuera del ciclo infinito\n",
    "\n",
    "\n",
    "2. En la segunda forma modificar el codigo de tal manera que si el rango_final no es un número, que el programa no vuelva a solicitar el rango_inicial unicamente\n",
    "el rango_final"
   ]
  },
  {
   "cell_type": "code",
   "execution_count": null,
   "id": "df9d5b90",
   "metadata": {},
   "outputs": [],
   "source": [
    "#validando que sean números con el metodo isdigit() -- primera forma\n",
    "suma = 0\n",
    "while True:    \n",
    "    rango_inicial = input(\"Digite el rango inicial para el ciclo for: \")\n",
    "    rango_final = input(\"Digite el rango final para el ciclo for: \")\n",
    "\n",
    "    if rango_inicial.isdigit():\n",
    "        if rango_final.isdigit():\n",
    "            rango_inicial = int(rango_inicial)\n",
    "            rango_final = int(rango_final)\n",
    "            if rango_final > rango_inicial:\n",
    "                for i in range(rango_inicial, rango_final + 1):\n",
    "                    if i % 3 == 0:\n",
    "                        suma += i\n",
    "                print(f\"La suma de los multiplos de 3 entre {rango_inicial} y {rango_final} es igual a {suma}\")\n",
    "                break\n",
    "            else:\n",
    "                print(\"El rango final debe ser mayor que el rango inicial\")\n",
    "        else:\n",
    "            print(\"Su rango final no es un número: INTENTELO DE NUEVO\")\n",
    "    else:\n",
    "        print(\"Su rango inicial no es un número: INTENTELO DE NUEVO\")"
   ]
  },
  {
   "cell_type": "code",
   "execution_count": null,
   "id": "61cc5747",
   "metadata": {},
   "outputs": [],
   "source": [
    "#validando que san enteris mediante try.... except -- segunda forma\n",
    "suma = 0\n",
    "while True: \n",
    "    try:\n",
    "        rango_inicial = int(input(\"Digite el rango inicial para el ciclo for: \"))\n",
    "        break\n",
    "    except ValueError as e:\n",
    "        print(f\"Error: {e}. Por favor, ingrese un número entero válido.\")\n",
    "\n",
    "while True:\n",
    "    try:\n",
    "        rango_final = int(input(\"Digite el rango final para el ciclo for: \"))\n",
    "\n",
    "        # Validar que el rango final sea mayor que el rango inicial\n",
    "        if rango_final <= rango_inicial:\n",
    "            print(\"El rango final debe ser mayor que el rango inicial. Inténtelo de nuevo.\")\n",
    "            continue\n",
    "\n",
    "        # Calcular la suma de los múltiplos de 3 en el rango\n",
    "        for i in range(rango_inicial, rango_final + 1):\n",
    "            if i % 3 == 0:\n",
    "                suma += i\n",
    "        print(f\"La suma de los múltiplos de 3 entre {rango_inicial} y {rango_final} es igual a {suma}\")\n",
    "        break\n",
    "    except ValueError as e:\n",
    "        print(f\"Error: {e}. Por favor, ingrese un número entero válido.\")"
   ]
  },
  {
   "cell_type": "markdown",
   "id": "53da9502",
   "metadata": {},
   "source": [
    "Por medio del bloque try...except...else controlar que el usuario ingrese un número, de lo contrario enviarle el mensaje y mantenerlo en un ciclo infinito hasta que en el bloque try no exista ninguna excepción.\n",
    "\n",
    "la excepción debera ser controlada especificamente VALUEERROR"
   ]
  },
  {
   "cell_type": "code",
   "execution_count": null,
   "id": "b1ff964b",
   "metadata": {},
   "outputs": [],
   "source": [
    "while True:\n",
    "    try:\n",
    "        numero = int(input(\"Digite un número entero positivo: \"))\n",
    "    except ValueError:\n",
    "        print(\"El número digitado no es un número entero, INTENTE DE NUEVO\")\n",
    "    else:\n",
    "        if numero > 0:\n",
    "            contador = 0\n",
    "            n = numero\n",
    "\n",
    "            while n > 0:\n",
    "                n = n // 10\n",
    "                contador += 1\n",
    "            print(f\"El número {numero} tiene {contador} digitos\")\n",
    "            break\n",
    "        else:\n",
    "            print(\"El número debe ser positivo, INTENTE DE NUEVO\")"
   ]
  }
 ],
 "metadata": {
  "kernelspec": {
   "display_name": "Python 3",
   "language": "python",
   "name": "python3"
  },
  "language_info": {
   "name": "python",
   "version": "3.13.3"
  }
 },
 "nbformat": 4,
 "nbformat_minor": 5
}
