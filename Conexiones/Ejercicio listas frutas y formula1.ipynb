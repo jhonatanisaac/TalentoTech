{
 "cells": [
  {
   "cell_type": "markdown",
   "id": "b05de52f",
   "metadata": {},
   "source": [
    "Listas de frutas"
   ]
  },
  {
   "cell_type": "code",
   "execution_count": null,
   "id": "99bbbe41",
   "metadata": {},
   "outputs": [
    {
     "name": "stdout",
     "output_type": "stream",
     "text": [
      "['manzana', 'mango', 'naranja', 'sandia', 'pera']\n",
      "naranja\n",
      "pera\n",
      "pera\n",
      "sandia\n",
      "['manzana', 'mango', 'naranja', 'sandia', 'pera', 'uva']\n",
      "['manzana', 'mango', 'papaya', 'naranja', 'sandia', 'pera', 'uva']\n",
      "['manzana', 'mango', 'papaya', 'naranja', 'pera', 'uva']\n",
      "mango\n",
      "['manzana', 'papaya', 'naranja', 'pera', 'uva']\n",
      "5\n"
     ]
    }
   ],
   "source": [
    "Listas_frutas=['manzana', 'mango', 'naranja', 'sandia', 'pera']\n",
    "print(Listas_frutas)\n",
    "print(Listas_frutas[2])  \n",
    "print(Listas_frutas[4])\n",
    "\n",
    "print(Listas_frutas[-1])\n",
    "print(Listas_frutas[-2])\n",
    "\n",
    "Listas_frutas.append('uva') #adicionar un elemento al final de la lista\n",
    "print(Listas_frutas)\n",
    "\n",
    "Listas_frutas.insert(2, 'papaya') #adicionar un nuevo elemento en la posicion 2\n",
    "print(Listas_frutas)\n",
    "\n",
    "Listas_frutas.remove('sandia') #Eliminar un elemento de la lista\n",
    "print(Listas_frutas)\n",
    "\n",
    "'''frutas=lista(Listas_frutas)\n",
    "print(frutas)\n",
    "lista_frutas.remove('mango')\n",
    "print(Listas_frutas)'''\n",
    "\n",
    "fruta2=Listas_frutas.pop(1) # Quitar el ultimo elemento de la lista \n",
    "print(fruta2)\n",
    "print(Listas_frutas)\n",
    "print(len(Listas_frutas))\n",
    "\n"
   ]
  },
  {
   "cell_type": "markdown",
   "id": "6924e1b3",
   "metadata": {},
   "source": [
    "Lista de constructores F1"
   ]
  },
  {
   "cell_type": "code",
   "execution_count": null,
   "id": "e58f2169",
   "metadata": {},
   "outputs": [
    {
     "name": "stdout",
     "output_type": "stream",
     "text": [
      "['ferrari', 'redbull', 'mclaren', 'mercedes', 'racingbulls']\n",
      "redbull\n",
      "racingbulls\n",
      "redbull\n",
      "mclaren\n",
      "['ferrari', 'redbull', 'mclaren', 'mercedes', 'racingbulls', 'alpine', 'astonmartin']\n",
      "['ferrari', 'redbull', 'mclaren', 'mercedes', 'racingbulls', 'alpine', 'astonmartin', 'alpine']\n",
      "['ferrari', 'redbull', 'mclaren', 'mercedes', 'williams', 'racingbulls', 'alpine', 'astonmartin', 'alpine']\n",
      "['ferrari', 'redbull', 'mclaren', 'mercedes', 'williams', 'alpine', 'astonmartin', 'alpine']\n",
      "mercedes\n",
      "['ferrari', 'redbull', 'mclaren', 'williams', 'alpine', 'astonmartin', 'alpine']\n",
      "7\n"
     ]
    }
   ],
   "source": [
    "\n",
    "Listas_f1=['ferrari', 'redbull', 'mclaren', 'mercedes', 'racingbulls']\n",
    "print(Listas_f1)\n",
    "print(Listas_f1[1])  \n",
    "print(Listas_f1[4])\n",
    "\n",
    "print(Listas_f1[-4])\n",
    "print(Listas_f1[-3])\n",
    "\n",
    "Listas_f1.extend(['alpine', 'astonmartin'])\n",
    "print(Listas_f1)\n",
    "\n",
    "'''Listas_f1.append('alpine') #añadir elementos con la funcion append\n",
    "print(Listas_f1)'''\n",
    "\n",
    "Listas_f1.insert(4, 'williams') \n",
    "print(Listas_f1)\n",
    "\n",
    "Listas_f1.remove('racingbulls') \n",
    "print(Listas_f1)\n",
    "\n",
    "formulaf1=Listas_f1.pop(3) \n",
    "print(formulaf1)\n",
    "print(Listas_f1)\n",
    "print(len(Listas_f1))"
   ]
  }
 ],
 "metadata": {
  "kernelspec": {
   "display_name": "Python 3",
   "language": "python",
   "name": "python3"
  },
  "language_info": {
   "codemirror_mode": {
    "name": "ipython",
    "version": 3
   },
   "file_extension": ".py",
   "mimetype": "text/x-python",
   "name": "python",
   "nbconvert_exporter": "python",
   "pygments_lexer": "ipython3",
   "version": "3.13.3"
  }
 },
 "nbformat": 4,
 "nbformat_minor": 5
}
