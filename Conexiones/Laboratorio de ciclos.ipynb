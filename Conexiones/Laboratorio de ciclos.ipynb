{
 "cells": [
  {
   "cell_type": "markdown",
   "id": "2501c62f",
   "metadata": {},
   "source": [
    "Siclos\n",
    "\n",
    "Complete los siguientes ejercicios sin ejemplos previos. Puede usar cualquier tipo de ciclo.\n",
    "1 Solicite al usuario ingresar 5 nombres y guárdelos en una lista.\n",
    "2 Muestre cuántos nombres comienzan con la letra \"A\".\n",
    "3 Cree una simulación de llenado de formulario donde se pide la edad y se valida que sea un número entre 18 y 99. Si no es válido, se repite."
   ]
  },
  {
   "cell_type": "code",
   "execution_count": 11,
   "id": "8faaea53",
   "metadata": {},
   "outputs": [
    {
     "name": "stdout",
     "output_type": "stream",
     "text": [
      "Nombres ingresados: ['jhon ', 'laura', 'alejandra', 'miguel', 'antonio']\n"
     ]
    }
   ],
   "source": [
    "# Solicite al usuario ingresar 5 nombres y guárdelos en una lista.\n",
    "nombres = []\n",
    "for i in range(5):\n",
    "\tnombre = input(f\"Ingrese el nombre {i+1}: \")\n",
    "\tnombres.append(nombre)\n",
    "print(\"Nombres ingresados:\", nombres)"
   ]
  },
  {
   "cell_type": "code",
   "execution_count": 4,
   "id": "c94c1ca7",
   "metadata": {},
   "outputs": [
    {
     "name": "stdout",
     "output_type": "stream",
     "text": [
      "Cantidad de nombres que comienzan con 'A': 6\n"
     ]
    }
   ],
   "source": [
    "#Muestre cuántos nombres comienzan con la letra \"A\".\n",
    "nombres1 = ['Ana', 'Andrés', 'Alberto', 'Beatriz', 'Carlos', 'Andrea', 'Alicia', 'Bruno', 'Carmen', 'Arturo']\n",
    "\n",
    "# Contar cuántos nombres comienzan con la letra \"A\" en la lista nombres1\n",
    "cantidad_a = sum(1 for nombre in nombres1 if nombre.startswith('A'))\n",
    "print(f\"Cantidad de nombres que comienzan con 'A': {cantidad_a}\")"
   ]
  },
  {
   "cell_type": "code",
   "execution_count": 9,
   "id": "c79bc3b6",
   "metadata": {},
   "outputs": [
    {
     "name": "stdout",
     "output_type": "stream",
     "text": [
      "Edad válida: 24\n"
     ]
    }
   ],
   "source": [
    "# Simulación de llenado de formulario para pedir la edad y validar que sea un número entre 18 y 99\n",
    "while True:\n",
    "    edad_input = input(\"Ingrese su edad: \")\n",
    "    if edad_input.isdigit():\n",
    "        edad = int(edad_input)\n",
    "        if 18 <= edad <= 99:\n",
    "            print(f\"Edad válida: {edad}\")\n",
    "            break\n",
    "        else:\n",
    "            print(\"La edad no es valida.\")\n",
    "    else:\n",
    "        print(\"Por favor, ingrese un número válido.\")"
   ]
  },
  {
   "cell_type": "code",
   "execution_count": 3,
   "id": "50dfbccd",
   "metadata": {},
   "outputs": [
    {
     "name": "stdout",
     "output_type": "stream",
     "text": [
      "Lista de nombres: ['aura', 'miguel', 'santiago', 'alejandra', 'marta']\n",
      "Lista de edades: [29, 28, 25, 32, 28]\n",
      "Nombres que inician con 'A': 0\n"
     ]
    }
   ],
   "source": [
    "lista_nombres = list() \n",
    "lista_Edad = list() \n",
    "contador = 0\n",
    "\n",
    "while contador < 5:\n",
    "    nombre = input(f\"Ingrese nombre número {contador + 1}: \")  \n",
    "    while True:\n",
    "        edad = int(input(f\"Ingrese edad número {contador + 1}: \")) \n",
    "        if 18 <= edad <= 99:\n",
    "            lista_Edad.append(edad)  \n",
    "            break\n",
    "        else:\n",
    "            print('La edad debe estar en el rango entre 18 y 99')\n",
    "\n",
    "    lista_nombres.append(nombre)  \n",
    "    contador += 1\n",
    "\n",
    "print(\"Lista de nombres:\", lista_nombres)\n",
    "print(\"Lista de edades:\", lista_Edad)    \n",
    "\n",
    "contador_nom_a = 0\n",
    "for nombre in lista_nombres:\n",
    "    nombre = nombre.strip() \n",
    "    #if nombre and nombre[0].upper() == 'A':\n",
    "    if nombre and nombre[0] == 'A':\n",
    "        contador_nom_a += 1\n",
    "\n",
    "print(\"Nombres que inician con 'A':\", contador_nom_a)"
   ]
  }
 ],
 "metadata": {
  "kernelspec": {
   "display_name": "Python 3",
   "language": "python",
   "name": "python3"
  },
  "language_info": {
   "codemirror_mode": {
    "name": "ipython",
    "version": 3
   },
   "file_extension": ".py",
   "mimetype": "text/x-python",
   "name": "python",
   "nbconvert_exporter": "python",
   "pygments_lexer": "ipython3",
   "version": "3.13.3"
  }
 },
 "nbformat": 4,
 "nbformat_minor": 5
}
