{
 "cells": [
  {
   "cell_type": "markdown",
   "id": "fcc674ec",
   "metadata": {},
   "source": [
    "Funciones lambda"
   ]
  },
  {
   "cell_type": "code",
   "execution_count": null,
   "id": "d72df3c3",
   "metadata": {},
   "outputs": [
    {
     "name": "stdout",
     "output_type": "stream",
     "text": [
      "La potencia es: 4.398046511104e+54\n",
      "La raíz 42.0-ésima de 20.0 es: 1.073932300189048\n",
      "El logaritmo de 20.0 en base 42.0 es: 0.8014973444683071\n"
     ]
    }
   ],
   "source": [
    "# TAREA (terminar siguiendo el ejemplo anterior):\n",
    "import math\n",
    "n1 = float(input(\"Ingrese el primer numero: \"))\n",
    "n2 = float(input(\"Ingrese el segundo numero: \"))\n",
    "\n",
    "potencia = lambda base, exponente: math.pow(base, exponente)  # base**exponente\n",
    "resultado = potencia(n1, n2)\n",
    "print(f\"La potencia es: {resultado}\")\n",
    "\n",
    "raiz = lambda base, indice: math.pow(base, 1/indice)\n",
    "resultado_raiz = raiz(n1, n2)\n",
    "print(f\"La raíz {n2}-ésima de {n1} es: {resultado_raiz}\")\n",
    "\n",
    "logaritmo = lambda valor, base: math.log(valor, base)\n",
    "resultado_log = logaritmo(n1, n2)\n",
    "print(f\"El logaritmo de {n1} en base {n2} es: {resultado_log}\")\n",
    "\n",
    "\n",
    "\n"
   ]
  },
  {
   "cell_type": "code",
   "execution_count": 6,
   "id": "b68c44c2",
   "metadata": {},
   "outputs": [
    {
     "name": "stdout",
     "output_type": "stream",
     "text": [
      "El seno de 18.0 radianes es: -0.7509872467716762\n",
      "El coseno de 18.0 radianes es: 0.6603167082440802\n",
      "La tangente de 18.0 radianes es: -1.1373137123376869\n"
     ]
    }
   ],
   "source": [
    "import math\n",
    "n1 = float(input(\"Ingrese el primer numero: \"))\n",
    "\n",
    "seno = lambda angulo_radianes: math.sin(angulo_radianes)\n",
    "resultado_seno = seno(n1)\n",
    "print(f\"El seno de {n1} radianes es: {resultado_seno}\")\n",
    "\n",
    "coseno = lambda angulo_radianes: math.cos(angulo_radianes)\n",
    "resultado_coseno = coseno(n1)\n",
    "print(f\"El coseno de {n1} radianes es: {resultado_coseno}\")\n",
    "\n",
    "tangente = lambda angulo_radianes: math.tan(angulo_radianes)\n",
    "resultado_tangente = tangente(n1)\n",
    "print(f\"La tangente de {n1} radianes es: {resultado_tangente}\")"
   ]
  },
  {
   "cell_type": "markdown",
   "id": "e619d485",
   "metadata": {},
   "source": [
    "Fibonacci"
   ]
  },
  {
   "cell_type": "code",
   "execution_count": 17,
   "id": "985c5bcd",
   "metadata": {},
   "outputs": [
    {
     "name": "stdout",
     "output_type": "stream",
     "text": [
      "0\n",
      "1\n",
      "1\n",
      "2\n",
      "3\n",
      "5\n",
      "8\n",
      "13\n",
      "21\n",
      "34\n",
      "55\n",
      "89\n",
      "144\n",
      "233\n",
      "377\n",
      "610\n",
      "987\n",
      "1597\n",
      "2584\n",
      "4181\n",
      "6765\n"
     ]
    }
   ],
   "source": [
    "def fibonacci(n): # n debe ser un numero entero positivo incluyendo el cero (numero natural)\n",
    "     if n <= 1:\n",
    "         return n\n",
    "     else:\n",
    "         return fibonacci(n - 1) + fibonacci(n - 2) # aquí se aplica la recursividad pues dentro del mismo bloque de código llamo a la función\n",
    "\n",
    "print(fibonacci(0))  # retorna 0\n",
    "print(fibonacci(1))  # retorna 1\n",
    "print(fibonacci(2))  # retorna la suma de los dos anteriores: 1 + 0 = 1\n",
    "print(fibonacci(3))  # retorna la suma de los dos anteriores: 1 + 1 = 2\n",
    "print(fibonacci(4))  # retorna la suma de los dos anteriores: 2 + 1 = 3\n",
    "print(fibonacci(5))  # retorna la suma de los dos anteriores: 3 + 2 = 5\n",
    "print(fibonacci(6))  # retorna la suma de los dos anteriores: 5 + 3 = 8\n",
    "print(fibonacci(7))  # retorna la suma de los dos anteriores: 8 + 5 = 13\n",
    "print(fibonacci(8))  # retorna la suma de los dos anteriores: 13 + 8 = 21\n",
    "print(fibonacci(9))  # retorna la suma de los dos anteriores: 21 + 13 = 34\n",
    "print(fibonacci(10)) # retorna la suma de los dos anteriores: 34 + 21 = 55\n",
    "print(fibonacci(11)) # retorna la suma de los dos anteriores: 55 + 34 = 89\n",
    "print(fibonacci(12)) # retorna la suma de los dos anteriores: 89 + 55 = 144\n",
    "print(fibonacci(13)) # retorna la suma de los dos anteriores: 144 + 89 = 233\n",
    "print(fibonacci(14)) # retorna la suma de los dos anteriores: 233 + 144 = 377\n",
    "print(fibonacci(15)) # retorna la suma de los dos anteriores: 377 + 233 = 610\n",
    "print(fibonacci(16)) # retorna la suma de los dos anteriores: 610 + 377 = 987\n",
    "print(fibonacci(17)) # retorna la suma de los dos anteriores: 987 + 610 = 1597\n",
    "print(fibonacci(18)) # retorna la suma de los dos anteriores: 2584 + 1597 = 4181\n",
    "print(fibonacci(19)) # retorna la suma de los dos anteriores: 4181 + 2584 = 6765\n",
    "print(fibonacci(20)) # retorna la suma de los dos anteriores: 6765 + 4181 = 10946\n",
    "\n",
    "\n"
   ]
  },
  {
   "cell_type": "code",
   "execution_count": 11,
   "id": "284dd46f",
   "metadata": {},
   "outputs": [
    {
     "name": "stdout",
     "output_type": "stream",
     "text": [
      "fib(0) = 0\n",
      "fib(1) = 1\n",
      "fib(2) = 1\n",
      "fib(3) = 2\n",
      "fib(4) = 3\n",
      "fib(5) = 5\n",
      "fib(6) = 8\n",
      "fib(7) = 13\n",
      "fib(8) = 21\n",
      "fib(9) = 34\n",
      "fib(10) = 55\n",
      "fib(11) = 89\n",
      "fib(12) = 144\n",
      "fib(13) = 233\n",
      "fib(14) = 377\n",
      "fib(15) = 610\n",
      "fib(16) = 987\n",
      "fib(17) = 1597\n",
      "fib(18) = 2584\n",
      "fib(19) = 4181\n",
      "fib(20) = 6765\n"
     ]
    }
   ],
   "source": [
    "def fibonacci(n): # n debe ser un numero entero positivo incluyendo el cero (numero natural)\n",
    "     if n <= 1:\n",
    "         return n\n",
    "     else:\n",
    "         return fibonacci(n - 1) + fibonacci(n - 2) # aquí se aplica la recursividad pues dentro del mismo bloque de código llamo a la función\n",
    "     \n",
    "# TAREA: hacer un ciclo while/for hasta 20: fib(n=20) = fib(n=19) + fib(n=18)\n",
    "for n in range(21):\n",
    "    print(f\"fib({n}) = {fibonacci(n)}\")"
   ]
  },
  {
   "cell_type": "code",
   "execution_count": 5,
   "id": "44b47e8f",
   "metadata": {},
   "outputs": [
    {
     "name": "stdout",
     "output_type": "stream",
     "text": [
      "El factorial de 6 es: 720\n"
     ]
    }
   ],
   "source": [
    "#Calculo sin recursividad\n",
    "def factorial_sin_recursividad(n):\n",
    "    resultado = 1\n",
    "    for i in range(1, n + 1):\n",
    "        resultado *= i\n",
    "    return resultado\n",
    "\n",
    "numero = int(input(\"Ingrese un número para calcular su factorial: \"))\n",
    "print(f\"El factorial de {numero} es: {factorial_sin_recursividad(numero)}\")\n",
    "\n"
   ]
  },
  {
   "cell_type": "code",
   "execution_count": 4,
   "id": "f48324e6",
   "metadata": {},
   "outputs": [
    {
     "name": "stdout",
     "output_type": "stream",
     "text": [
      "La serie de fibonacci hasta 10 es:\n",
      "la serie de fibonacci hasta es: 0\n",
      "la serie de fibonacci hasta es: 1\n",
      "la serie de fibonacci hasta es: 1\n",
      "la serie de fibonacci hasta es: 2\n",
      "la serie de fibonacci hasta es: 3\n",
      "la serie de fibonacci hasta es: 5\n",
      "la serie de fibonacci hasta es: 8\n",
      "la serie de fibonacci hasta es: 13\n",
      "la serie de fibonacci hasta es: 21\n",
      "la serie de fibonacci hasta es: 34\n",
      "la serie de fibonacci hasta es: 55\n",
      "la serie de fibonacci hasta es: 89\n"
     ]
    }
   ],
   "source": [
    "#Calculo sin recursividad2\n",
    "def factorial_sin_recursividad(n):\n",
    "    a=0\n",
    "    b=1\n",
    "    c=0\n",
    "    print(f\"la serie de fibonacci hasta es: {a}\")\n",
    "    print(f\"la serie de fibonacci hasta es: {b}\")\n",
    "    for i in range(n):\n",
    "        if b!=n:\n",
    "            c = a + b\n",
    "            print(f\"la serie de fibonacci hasta es: {c}\")\n",
    "            a = b\n",
    "            b = c\n",
    "            \n",
    "\n",
    "numero = int(input(\"Ingrese un número para calcular su serie de fibonacci: \"))\n",
    "print(f\"La serie de fibonacci hasta {numero} es:\")\n",
    "\n",
    "d= factorial_sin_recursividad(numero)\n"
   ]
  },
  {
   "cell_type": "code",
   "execution_count": null,
   "id": "df1b6e9e",
   "metadata": {},
   "outputs": [
    {
     "name": "stdout",
     "output_type": "stream",
     "text": [
      "\n",
      "Factorial sin recursividad:\n",
      "\n",
      "El factorial de 6 es: 720\n"
     ]
    }
   ],
   "source": [
    "# Calculo con recursividad\n",
    "print()\n",
    "print(\"Factorial sin recursividad:\")\n",
    "print()\n",
    "\n",
    "def factorial_recursivo(n):\n",
    "    if n == 0 or n == 1:\n",
    "        return 1\n",
    "    else:\n",
    "        return n * factorial_recursivo(n - 1)\n",
    "\n",
    "numero = int(input(\"Ingrese un número para calcular su factorial: \"))\n",
    "print(f\"El factorial de {numero} es: {factorial_recursivo(numero)}\")"
   ]
  },
  {
   "cell_type": "code",
   "execution_count": 5,
   "id": "8cd227b1",
   "metadata": {},
   "outputs": [
    {
     "name": "stdout",
     "output_type": "stream",
     "text": [
      "La serie de fibonacci hasta 14 es:\n",
      "la serie de fibonacci hasta es: 0\n",
      "la serie de fibonacci hasta es: 1\n",
      "la serie de fibonacci hasta es: 1\n",
      "la serie de fibonacci hasta es: 2\n",
      "la serie de fibonacci hasta es: 3\n",
      "la serie de fibonacci hasta es: 5\n",
      "la serie de fibonacci hasta es: 8\n",
      "la serie de fibonacci hasta es: 13\n"
     ]
    }
   ],
   "source": [
    "# Calculo con recursividad2\n",
    "def fibonacci_recursivo(a, b, n):\n",
    "    if b > n:\n",
    "        return\n",
    "    print(f\"la serie de fibonacci hasta es: {b}\")\n",
    "    fibonacci_recursivo(b, a + b, n)\n",
    "\n",
    "def fibonacci(n):\n",
    "    print(f\"la serie de fibonacci hasta es: 0\")\n",
    "    fibonacci_recursivo(0, 1, n)\n",
    "\n",
    "numero = int(input(\"Ingrese un número para calcular su serie de fibonacci: \"))\n",
    "print(f\"La serie de fibonacci hasta {numero} es:\")\n",
    "\n",
    "d= fibonacci(numero)"
   ]
  },
  {
   "cell_type": "code",
   "execution_count": 11,
   "id": "e6e40afa",
   "metadata": {},
   "outputs": [
    {
     "name": "stdout",
     "output_type": "stream",
     "text": [
      "La suma de 12.0 + 3.0 es: 15.0\n",
      "La resta de 12.0 - 3.0 es: 9.0\n",
      "La multiplicación de 12.0 * 3.0 es: 36.0\n",
      "La división de 12.0 / 3.0 es: 4.0\n",
      "La potencia de 12.0 elevado a 3.0 es: 1728.0\n",
      "La raíz 3.0-ésima de 12.0 es: 2.2894284851066637\n",
      "El logaritmo de 12.0 en base 3.0 es: 2.2618595071429146\n",
      "El seno de 12.0 radianes es: -0.5365729180004349\n",
      "El coseno de 12.0 radianes es: 0.8438539587324921\n",
      "La tangente de 12.0 radianes es: -0.6358599286615808\n",
      "El factorial de 12 es: 479001600\n"
     ]
    }
   ],
   "source": [
    "import math\n",
    "\n",
    "# Entrada del usuario\n",
    "n1 = float(input(\"Ingrese el primer número: \"))\n",
    "n2_input = input(\"Ingrese el segundo número (opcional, presione Enter para omitir): \")\n",
    "n2 = float(n2_input) if n2_input.strip() != \"\" else None\n",
    "\n",
    "# Funciones lambda para operaciones básicas\n",
    "suma = lambda a, b: a + b\n",
    "resta = lambda a, b: a - b\n",
    "multiplicacion = lambda a, b: a * b\n",
    "division = lambda a, b: a / b if b != 0 else \"Error: división por cero\"\n",
    "potencia = lambda base, exponente: math.pow(base, exponente)\n",
    "radicacion = lambda base, indice: math.pow(base, 1/indice) if indice != 0 else \"Error: índice cero\"\n",
    "logaritmacion = lambda valor, base: math.log(valor, base) if valor > 0 and base > 0 and base != 1 else \"Error: valores inválidos para logaritmo\"\n",
    "\n",
    "if n2 is not None:\n",
    "    print(f\"La suma de {n1} + {n2} es: {suma(n1, n2)}\")\n",
    "    print(f\"La resta de {n1} - {n2} es: {resta(n1, n2)}\")\n",
    "    print(f\"La multiplicación de {n1} * {n2} es: {multiplicacion(n1, n2)}\")\n",
    "    print(f\"La división de {n1} / {n2} es: {division(n1, n2)}\")\n",
    "    print(f\"La potencia de {n1} elevado a {n2} es: {potencia(n1, n2)}\")\n",
    "    print(f\"La raíz {n2}-ésima de {n1} es: {radicacion(n1, n2)}\")\n",
    "    print(f\"El logaritmo de {n1} en base {n2} es: {logaritmacion(n1, n2)}\")\n",
    "else:\n",
    "    print(\"Operaciones binarias (requieren dos números) omitidas por falta de segundo número.\")\n",
    "\n",
    "# Funciones lambda para trigonometría (reciben radianes)\n",
    "seno = lambda angulo_radianes: math.sin(angulo_radianes)\n",
    "coseno = lambda angulo_radianes: math.cos(angulo_radianes)\n",
    "tangente = lambda angulo_radianes: math.tan(angulo_radianes)\n",
    "\n",
    "# Cálculo e impresión de seno, coseno y tangente\n",
    "resultado_seno = seno(n1)\n",
    "print(f\"El seno de {n1} radianes es: {resultado_seno}\")\n",
    "\n",
    "resultado_coseno = coseno(n1)\n",
    "print(f\"El coseno de {n1} radianes es: {resultado_coseno}\")\n",
    "\n",
    "resultado_tangente = tangente(n1)\n",
    "print(f\"La tangente de {n1} radianes es: {resultado_tangente}\")\n",
    "\n",
    "# Función recursiva para el factorial\n",
    "def factorial(n):\n",
    "    if n < 0:\n",
    "        return \"Error: no existe el factorial de un número negativo\"\n",
    "    elif n == 0 or n == 1:\n",
    "        return 1\n",
    "    else:\n",
    "        return n * factorial(n - 1)\n",
    "\n",
    "# Si el número es entero y no negativo, calcular factorial\n",
    "if n1.is_integer() and n1 >= 0:\n",
    "    n_int = int(n1)\n",
    "    resultado_factorial = factorial(n_int)\n",
    "    print(f\"El factorial de {n_int} es: {resultado_factorial}\")\n",
    "else:\n",
    "    print(\"No se puede calcular el factorial de un número no entero o negativo.\")"
   ]
  },
  {
   "cell_type": "code",
   "execution_count": 13,
   "id": "16db0286",
   "metadata": {},
   "outputs": [
    {
     "name": "stdout",
     "output_type": "stream",
     "text": [
      "El factorial de 3 es: 6\n"
     ]
    }
   ],
   "source": [
    "def factorial (n):\n",
    "    if n == 0:\n",
    "        return 1\n",
    "    else:\n",
    "        return n * factorial(n - 1)\n",
    "    \n",
    "n = int(input(\"Ingrese un número para calcular su factorial: \"))\n",
    "\n",
    "resultado = factorial(n)\n",
    "print(f\"El factorial de {n} es: {resultado}\")\n"
   ]
  },
  {
   "cell_type": "code",
   "execution_count": 14,
   "id": "48c83ee9",
   "metadata": {},
   "outputs": [
    {
     "name": "stdout",
     "output_type": "stream",
     "text": [
      "El factorial de 6 es: 720\n"
     ]
    }
   ],
   "source": [
    "def factorial(n):\n",
    "    if n < 0:\n",
    "        return \"Error: no existe el factorial de un número negativo\"\n",
    "    elif n == 0:\n",
    "        return 1\n",
    "    else:\n",
    "        Val_factorial = 1\n",
    "        for i in range(1, n + 1):\n",
    "            Val_factorial *= i\n",
    "        return Val_factorial\n",
    "    \n",
    "n = int(input(\"Ingrese un número para calcular su factorial: \"))\n",
    "resultado = factorial(n)\n",
    "print(f\"El factorial de {n} es: {resultado}\")\n"
   ]
  }
 ],
 "metadata": {
  "kernelspec": {
   "display_name": "Python 3",
   "language": "python",
   "name": "python3"
  },
  "language_info": {
   "codemirror_mode": {
    "name": "ipython",
    "version": 3
   },
   "file_extension": ".py",
   "mimetype": "text/x-python",
   "name": "python",
   "nbconvert_exporter": "python",
   "pygments_lexer": "ipython3",
   "version": "3.13.3"
  }
 },
 "nbformat": 4,
 "nbformat_minor": 5
}
