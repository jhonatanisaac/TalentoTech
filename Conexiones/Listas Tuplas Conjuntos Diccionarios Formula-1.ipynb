{
 "cells": [
  {
   "cell_type": "code",
   "execution_count": 5,
   "id": "a80ef0e9",
   "metadata": {},
   "outputs": [
    {
     "name": "stdout",
     "output_type": "stream",
     "text": [
      "Equpos de la F1\n",
      "Equipo de F1: ferrari\n",
      "Equipo de F1: redbull\n",
      "Equipo de F1: mclaren\n",
      "Equipo de F1: mercedes\n",
      "Equipo de F1: racingbulls\n",
      "Equipo de F1: astonmartin\n",
      "Equipo de F1: alpine\n",
      "Equipo de F1: williams\n",
      "Equipo de F1: haas\n",
      "Equipo de F1: kicksauber\n",
      "Pilotos de la F1\n",
      "Piloto: leclerc\n",
      "Piloto: verstappen\n",
      "Piloto: norris\n",
      "Piloto: hamilton\n",
      "Piloto: tsunoda\n",
      "Piloto: sainz\n",
      "Piloto: alonso\n",
      "Piloto: gasly\n",
      "Piloto: ocon\n",
      "Piloto: bortoleto\n",
      "Piloto: hulkenberg\n",
      "Piloto: albon\n",
      "Piloto: piastri\n",
      "Piloto: stroll\n",
      "Piloto: hadjar\n",
      "Piloto: lawson\n",
      "Piloto: berman\n",
      "Piloto: colapito\n",
      "Piloto: antonelli\n",
      "Piloto: rossell\n",
      "Escuderias de la F1\n",
      "Escuderia aston martin\n",
      "Escuderia ferrari\n",
      "Escuderia mclaren\n",
      "Escuderia mercedes\n",
      "Escuderia redbull\n",
      "Pilotos y equipos\n",
      "Piloto: leclerc, Equipo: Ferrari\n",
      "Piloto: verstappen, Equipo: Red Bull\n",
      "Piloto: norris, Equipo: McLaren\n",
      "Piloto: hamilton, Equipo: Ferrari\n",
      "Piloto: tsunoda, Equipo: Racing Bulls\n"
     ]
    }
   ],
   "source": [
    "print(\"Equpos de la F1\")\n",
    "Listas_f1=['ferrari', 'redbull', 'mclaren', 'mercedes', 'racingbulls', 'astonmartin', 'alpine', 'williams', 'haas', 'kicksauber']\n",
    "for equipo in Listas_f1:\n",
    "    print(\"Equipo de F1:\", equipo)\n",
    "\n",
    "print(\"Pilotos de la F1\")\n",
    "tupla_pilotos=('leclerc', 'verstappen', 'norris', 'hamilton', 'tsunoda', 'sainz', 'alonso', 'gasly', 'ocon', 'bortoleto', 'hulkenberg', 'albon', 'piastri', 'stroll', 'hadjar', 'lawson', 'berman', 'colapito', 'antonelli', 'rossell')\n",
    "for piloto in tupla_pilotos:\n",
    "    print(\"Piloto:\", piloto)\n",
    "\n",
    "print(\"Escuderias de la F1\")\n",
    "conjunto_equipos={'ferrari', 'redbull', 'mclaren', 'mercedes', 'aston martin'}\n",
    "for equipo in conjunto_equipos:\n",
    "    print(\"Escuderia\", equipo)\n",
    "\n",
    "print(\"Pilotos y equipos\")\n",
    "diccionario_pilotos={'leclerc': 'Ferrari', 'verstappen': 'Red Bull', 'norris': 'McLaren', 'hamilton': 'Ferrari', 'tsunoda': 'Racing Bulls'}\n",
    "for piloto, equipo in diccionario_pilotos.items():\n",
    "    print(f\"Piloto: {piloto}, Equipo: {equipo}\")\n"
   ]
  }
 ],
 "metadata": {
  "kernelspec": {
   "display_name": "Python 3",
   "language": "python",
   "name": "python3"
  },
  "language_info": {
   "codemirror_mode": {
    "name": "ipython",
    "version": 3
   },
   "file_extension": ".py",
   "mimetype": "text/x-python",
   "name": "python",
   "nbconvert_exporter": "python",
   "pygments_lexer": "ipython3",
   "version": "3.13.3"
  }
 },
 "nbformat": 4,
 "nbformat_minor": 5
}
