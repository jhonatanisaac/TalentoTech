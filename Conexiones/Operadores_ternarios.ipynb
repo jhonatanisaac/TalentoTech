{
 "cells": [
  {
   "cell_type": "code",
   "execution_count": 5,
   "id": "f22a3349",
   "metadata": {},
   "outputs": [
    {
     "name": "stdout",
     "output_type": "stream",
     "text": [
      "El valor ingresado no es un numero - ingreselo nuevamente.\n"
     ]
    }
   ],
   "source": [
    "# Solicitud al usuario para ingresar el valor\n",
    "entrada = input(\"Ingrese el precio: \")\n",
    "\n",
    "try:\n",
    "    # Se convierte el texto ingresado a numerico tipo float\n",
    "    # Esto puede lanzar un ValueError si la entrada no es un número válido\n",
    "    precio = float(entrada)\n",
    "\n",
    "    # Se realiza una evaluacion usando un rango de presisos mediante operadores ternarios anidados\n",
    "    mensaje = (\n",
    "        \"El precio está entre $10.001 y $50.000\"\n",
    "        if 10000 < precio <= 50000 else\n",
    "        \"El precio está entre $50.001 y $100.000\"\n",
    "        if 50000 < precio <= 100000 else\n",
    "        \"El precio está entre $100.001 y $200.000\"\n",
    "        if 100000 < precio <= 200000 else\n",
    "        \"El precio es mayor a $200.000\"\n",
    "        if precio > 200000 else\n",
    "        \"El precio es menor o igual a $10.000\")\n",
    "\n",
    "    \n",
    "    print(mensaje)\n",
    "\n",
    "except ValueError:\n",
    "    # Si el valor ingrsado no es un número válido, se captura la excepción\n",
    "    # y se imprime un mensaje de error\n",
    "    print(\"El valor ingresado no es un numero - ingreselo nuevamente.\")\n"
   ]
  }
 ],
 "metadata": {
  "kernelspec": {
   "display_name": "Python 3",
   "language": "python",
   "name": "python3"
  },
  "language_info": {
   "codemirror_mode": {
    "name": "ipython",
    "version": 3
   },
   "file_extension": ".py",
   "mimetype": "text/x-python",
   "name": "python",
   "nbconvert_exporter": "python",
   "pygments_lexer": "ipython3",
   "version": "3.13.3"
  }
 },
 "nbformat": 4,
 "nbformat_minor": 5
}
