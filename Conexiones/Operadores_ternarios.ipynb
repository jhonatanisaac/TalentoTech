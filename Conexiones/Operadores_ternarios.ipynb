{
 "cells": [
  {
   "cell_type": "markdown",
   "id": "ce4cb16b",
   "metadata": {},
   "source": [
    "Programa pizza"
   ]
  },
  {
   "cell_type": "code",
   "execution_count": 2,
   "id": "2d3b7003",
   "metadata": {},
   "outputs": [
    {
     "name": "stdout",
     "output_type": "stream",
     "text": [
      "El valor de la factura es: 1110\n"
     ]
    }
   ],
   "source": [
    "#valoes de pizza\n",
    "\n",
    "pizza_s = 1000\n",
    "pizza_m = 2000\n",
    "pizza_l = 3000\n",
    "# valores del peperoni\n",
    "peperoni_s = 100\n",
    "peperoni_m = 200\n",
    "peperoni_l = 300\n",
    "# Valores agregar extraqueso\n",
    "extraqueso_s = 10\n",
    "extraqueso_m = 20\n",
    "extraqueso_l = 30\n",
    "\n",
    "pizza_comprar = input(\"Que tipo de pizza desea comprar? (S, M, L): \")\n",
    "peperoni_agregar = input(\"Desea agregar peperoni? Si o No : \")\n",
    "extraqueso_agregar = input(\"Desea agregar extraqueso?  Si o No : \")\n",
    "\n",
    "if pizza_comprar == \"S\" and peperoni_agregar == \"Si\" and extraqueso_agregar == \"Si\":\n",
    "    valor_factura = pizza_s + peperoni_s + extraqueso_s\n",
    "    print(f\"El valor de la factura es: {valor_factura}\")\n",
    "else:\n",
    "    valor_factura = 0\n",
    "    print(f\"Valor factura {valor_factura}\")\n"
   ]
  },
  {
   "cell_type": "markdown",
   "id": "8edaa785",
   "metadata": {},
   "source": [
    "Programa que calcula la masa colporal"
   ]
  },
  {
   "cell_type": "code",
   "execution_count": null,
   "id": "fb337ebe",
   "metadata": {},
   "outputs": [],
   "source": []
  }
 ],
 "metadata": {
  "kernelspec": {
   "display_name": "Python 3",
   "language": "python",
   "name": "python3"
  },
  "language_info": {
   "codemirror_mode": {
    "name": "ipython",
    "version": 3
   },
   "file_extension": ".py",
   "mimetype": "text/x-python",
   "name": "python",
   "nbconvert_exporter": "python",
   "pygments_lexer": "ipython3",
   "version": "3.13.3"
  }
 },
 "nbformat": 4,
 "nbformat_minor": 5
}
