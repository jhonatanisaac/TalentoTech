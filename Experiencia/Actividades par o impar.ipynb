{
 "cells": [
  {
   "cell_type": "markdown",
   "id": "594be318",
   "metadata": {},
   "source": [
    "identificar si el numero es par o impar, igual a 0"
   ]
  },
  {
   "cell_type": "code",
   "execution_count": 3,
   "id": "09e6f07c",
   "metadata": {},
   "outputs": [
    {
     "name": "stdout",
     "output_type": "stream",
     "text": [
      "El numero 3 es impar y multiplo de 3\n"
     ]
    }
   ],
   "source": [
    "a = 3\n",
    "\n",
    "if a == 0:\n",
    "    print(f\"El numero {a} es neutro\")\n",
    "elif(a % 2 == 0):\n",
    "    print(f\"El numero {a} es par\")\n",
    "else:\n",
    "    if a % 3 == 0:\n",
    "        print(f\"El numero {a} es impar y multiplo de 3\")\n",
    "    else:\n",
    "        print(f\"El numero {a} es impar y no es multiplo de 3\")\n",
    "\n"
   ]
  },
  {
   "cell_type": "markdown",
   "id": "855cf8d5",
   "metadata": {},
   "source": [
    "### ***1.Punto - Validad par o impar***"
   ]
  },
  {
   "cell_type": "code",
   "execution_count": 4,
   "id": "db1d6ddb",
   "metadata": {},
   "outputs": [
    {
     "name": "stdout",
     "output_type": "stream",
     "text": [
      "El numero 3 es impar y multiplo de 3\n"
     ]
    }
   ],
   "source": [
    "a = 3\n",
    "\n",
    "if a == 0:\n",
    "    print(f\"El numero {a} es neutro\")\n",
    "elif(a % 2 == 0):\n",
    "    print(f\"El numero {a} es par\")\n",
    "elif a % 3 == 0:\n",
    "        print(f\"El numero {a} es impar y multiplo de 3\")\n",
    "else:\n",
    "     print(f\"El numero {a} es impar y no es multiplo de 3\")\n"
   ]
  },
  {
   "cell_type": "markdown",
   "id": "ba8106b1",
   "metadata": {},
   "source": [
    "###***2.Punto - Validacion numero***\n",
    "\n",
    "Validad que sea la edad ingresada por el teclado sea un numero, positivo, mayor a 0 y que sea entero"
   ]
  },
  {
   "cell_type": "code",
   "execution_count": null,
   "id": "b278d6cf",
   "metadata": {},
   "outputs": [
    {
     "name": "stdout",
     "output_type": "stream",
     "text": [
      "Usted tiene 10 años.\n"
     ]
    }
   ],
   "source": [
    "while True:\n",
    "    try:\n",
    "        edad = int(input(\"Ingrese su edad: \"))\n",
    "    \n",
    "    except ValueError:\n",
    "        print(\"Usted no ingreso un numero\")\n",
    "    else:\n",
    "        if edad == 0 or edad < 0:\n",
    "            print(\"Edad incorrecta.\")\n",
    "        else:\n",
    "            print(f\"Usted tiene {edad} años.\")\n",
    "            break\n",
    "\n",
    "#print(edad)"
   ]
  },
  {
   "cell_type": "code",
   "execution_count": null,
   "id": "bf174e58",
   "metadata": {},
   "outputs": [],
   "source": []
  },
  {
   "cell_type": "code",
   "execution_count": null,
   "id": "c98c8f17",
   "metadata": {},
   "outputs": [],
   "source": [
    "g = None\n",
    "print(g)\n",
    "type(g)\n"
   ]
  }
 ],
 "metadata": {
  "kernelspec": {
   "display_name": "Python 3",
   "language": "python",
   "name": "python3"
  },
  "language_info": {
   "codemirror_mode": {
    "name": "ipython",
    "version": 3
   },
   "file_extension": ".py",
   "mimetype": "text/x-python",
   "name": "python",
   "nbconvert_exporter": "python",
   "pygments_lexer": "ipython3",
   "version": "3.13.3"
  }
 },
 "nbformat": 4,
 "nbformat_minor": 5
}
