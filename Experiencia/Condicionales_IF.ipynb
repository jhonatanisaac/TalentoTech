{
 "cells": [
  {
   "cell_type": "markdown",
   "id": "147db97d",
   "metadata": {},
   "source": [
    "### ***EJERCICIOS FORO***\n",
    "\n",
    "## ***1.***\n",
    "\n",
    "Una persona desea saber si puede conducir cierto tipo de vehículo. Las reglas son:\n",
    "\n",
    "- Debe tener licencia de conducir vigente (la variable `tiene_licencia` es True).\n",
    "- Si la persona tiene menos de 21 años (la variable `edad`), solo puede conducir motocicleta (la variable `vehiculo` es igual a `\"motocicleta\"`).\n",
    "- Si la persona tiene 21 años o más, puede conducir motocicleta o automóvil (la variable `vehiculo` es `\"motocicleta\"` o `\"automovil\"`).\n",
    "\n",
    "Crea un programa en Python que utilice condicionales anidados para determinar si la persona puede conducir el tipo de vehículo elegido y muestre un mensaje apropiado.\n"
   ]
  },
  {
   "cell_type": "code",
   "execution_count": 7,
   "id": "5648c55d",
   "metadata": {},
   "outputs": [
    {
     "name": "stdout",
     "output_type": "stream",
     "text": [
      "Puede conducir cualquier vehículo permitido\n"
     ]
    }
   ],
   "source": [
    "#Condiciones para conducir un vehículo\n",
    "edad = 21\n",
    "tiene_licencia = True\n",
    "vehiculo = \"motocicleta\"\n",
    "\n",
    "if tiene_licencia:\n",
    "    if edad < 21:\n",
    "        if vehiculo == \"motocicleta\":\n",
    "            print(\"Solo puede conducir una motocicleta\")\n",
    "        else:\n",
    "            print(\"No puede conducir un vehículo diferente a una motocicleta\")\n",
    "    if edad >= 21:\n",
    "        if vehiculo == \"motocicleta\" or vehiculo == \"automovil\":\n",
    "            print(\"Puede conducir cualquier vehículo permitido\")\n",
    "        else:\n",
    "            print(\"Tipo de vehículo no permitido\")\n",
    "else:\n",
    "    print(\"No puede conducir, no tiene licencia\")\n"
   ]
  },
  {
   "cell_type": "markdown",
   "id": "149070fe",
   "metadata": {},
   "source": [
    "### ***2.***\n",
    "\n",
    "Una tienda ofrece un descuento especial bajo estas condiciones:\n",
    "\n",
    "- El cliente debe tener membresía activa (la variable `membresia_activa` es True).\n",
    "- Si la edad del cliente (`edad`) es menor de 18, el descuento es del 10%.\n",
    "- Si la edad está entre 18 y 60 (inclusive), el descuento es del 20%.\n",
    "- Si la edad es mayor de 60, el descuento es del 30%.\n",
    "\n",
    "Crea un programa en Python que utilice condicionales anidados para determinar el descuento que recibe un cliente y muestre el porcentaje de descuento o un mensaje si no tiene derecho al descuento."
   ]
  },
  {
   "cell_type": "code",
   "execution_count": null,
   "id": "bd4fdf04",
   "metadata": {},
   "outputs": [
    {
     "name": "stdout",
     "output_type": "stream",
     "text": [
      "Tiene un descuento del 30% por ser mayor de 60 años con membresía activa\n"
     ]
    }
   ],
   "source": [
    "#Descuento en productos\n",
    "\n",
    "membresia_activa = True\n",
    "edad = 18\n",
    "\n",
    "if membresia_activa:\n",
    "    if edad < 18:\n",
    "        print(\"Tiene un descuento del 10% por ser menor de edad con membresía activa\")\n",
    "    else:\n",
    "        if edad <= 60:\n",
    "            print(\"Tiene un descuento del 20% por ser mayor de edad con membresía activa\")\n",
    "        else:\n",
    "            print(\"Tiene un descuento del 30% por ser mayor de 60 años con membresía activa\")\n",
    "else:\n",
    "    print(\"No tiene descuento, no tiene membresía activa\")\n",
    "\n"
   ]
  },
  {
   "cell_type": "markdown",
   "id": "7979071d",
   "metadata": {},
   "source": [
    "### ***3.***\n",
    "\n",
    "Determinar si un número ingresado por teclado es primo"
   ]
  },
  {
   "cell_type": "code",
   "execution_count": 34,
   "id": "95469a68",
   "metadata": {},
   "outputs": [
    {
     "name": "stdout",
     "output_type": "stream",
     "text": [
      "4 No es primo\n"
     ]
    }
   ],
   "source": [
    "#Determinar si un número ingresado por teclado es primo\n",
    "\n",
    "n = int(input(\"Ingrese un número\"))\n",
    "\n",
    "div=1 \n",
    "cdiv=0\n",
    "while div<=n:\n",
    "    if n % div == 0:\n",
    "        cdiv+=1\n",
    "    div=div+1\n",
    "if cdiv==2:\n",
    "    print(f\"{n} es primo\")\n",
    "else:\n",
    "    print(f\"{n} No es primo\")\n"
   ]
  }
 ],
 "metadata": {
  "kernelspec": {
   "display_name": "Python 3",
   "language": "python",
   "name": "python3"
  },
  "language_info": {
   "codemirror_mode": {
    "name": "ipython",
    "version": 3
   },
   "file_extension": ".py",
   "mimetype": "text/x-python",
   "name": "python",
   "nbconvert_exporter": "python",
   "pygments_lexer": "ipython3",
   "version": "3.13.3"
  }
 },
 "nbformat": 4,
 "nbformat_minor": 5
}
